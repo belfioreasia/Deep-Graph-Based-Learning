{
  "cells": [
    {
      "cell_type": "code",
      "execution_count": 1,
      "id": "80c16236-a326-4d21-bf3b-40fdf7330077",
      "metadata": {
        "colab": {
          "base_uri": "https://localhost:8080/"
        },
        "id": "80c16236-a326-4d21-bf3b-40fdf7330077",
        "outputId": "5e497f20-e937-4853-d53b-4a381407f479"
      },
      "outputs": [
        {
          "name": "stdout",
          "output_type": "stream",
          "text": [
            "CUDA is available.\n",
            "Using cuda\n"
          ]
        }
      ],
      "source": [
        "import random\n",
        "import torch\n",
        "import torch.nn as nn\n",
        "import numpy as np\n",
        "import pandas as pd\n",
        "from torch.utils.data import TensorDataset, DataLoader, random_split\n",
        "from importlib import reload\n",
        "\n",
        "\n",
        "from models.MLP import *\n",
        "import utils\n",
        "from utils import *\n",
        "\n",
        "# Set a fixed random seed for reproducibility across multiple libraries\n",
        "random_seed = 42\n",
        "random.seed(random_seed)\n",
        "np.random.seed(random_seed)\n",
        "torch.manual_seed(random_seed)\n",
        "\n",
        "# Check for CUDA (GPU support) and set device accordingly\n",
        "if torch.cuda.is_available():\n",
        "    device = torch.device(\"cuda\")\n",
        "    print(\"CUDA is available.\")\n",
        "    torch.cuda.manual_seed(random_seed)\n",
        "    torch.cuda.manual_seed_all(random_seed)  # For multi-GPU setups\n",
        "    # Additional settings for ensuring reproducibility on CUDA\n",
        "    torch.backends.cudnn.deterministic = True\n",
        "    torch.backends.cudnn.benchmark = False\n",
        "    # !nvidia-smi\n",
        "elif torch.backends.mps.is_available():\n",
        "    device = torch.device(\"mps\")\n",
        "    print(\"MPS is available.\")\n",
        "else:\n",
        "    device = torch.device(\"cpu\")\n",
        "    print(\"CUDA not available.\")\n",
        "\n",
        "print(\"Using\", device)"
      ]
    },
    {
      "cell_type": "code",
      "execution_count": 2,
      "id": "a3b59560-a31f-4c59-a48e-8b5ddaf4d143",
      "metadata": {
        "id": "a3b59560-a31f-4c59-a48e-8b5ddaf4d143"
      },
      "outputs": [],
      "source": [
        "lr_data_path_train = 'data/lr_train.csv'\n",
        "lr_data_path_test = 'data/lr_test.csv'\n",
        "hr_data_path = 'data/hr_train.csv'\n",
        "\n",
        "# load data\n",
        "df_lr_train = pd.read_csv(lr_data_path_train)\n",
        "df_lr_test = pd.read_csv(lr_data_path_test)\n",
        "df_hr_train = pd.read_csv(hr_data_path)"
      ]
    },
    {
      "cell_type": "code",
      "execution_count": 3,
      "id": "6bfc6a64",
      "metadata": {},
      "outputs": [],
      "source": [
        "def data_to_tensors(data, feat_dim, matrix_format=True, device='cpu'):\n",
        "    matrices = vectorize_matrix(data, feat_dim)\n",
        "    if matrix_format:\n",
        "        tensors = torch.stack([torch.FloatTensor(x) for x in matrices], dim=0).to(device)\n",
        "    else:\n",
        "        tensors = torch.stack([torch.FloatTensor(x.flatten()) for x in matrices], dim=0).to(device)\n",
        "\n",
        "    return tensors"
      ]
    },
    {
      "cell_type": "code",
      "execution_count": 4,
      "id": "9f7506fd-317f-4f16-bf47-fb53b38d631c",
      "metadata": {
        "id": "9f7506fd-317f-4f16-bf47-fb53b38d631c"
      },
      "outputs": [
        {
          "data": {
            "text/plain": [
              "(torch.Size([167, 25600]), torch.Size([167, 71824]))"
            ]
          },
          "execution_count": 4,
          "metadata": {},
          "output_type": "execute_result"
        }
      ],
      "source": [
        "# convert data to tensors\n",
        "lr_tensors = data_to_tensors(df_lr_train, 160, matrix_format=False, device=device)\n",
        "hr_tensors = data_to_tensors(df_hr_train, 268, matrix_format=False, device=device)\n",
        "test_lr_tensors = data_to_tensors(df_lr_test, 160, matrix_format=False, device=device)\n",
        "\n",
        "dataset = TensorDataset(lr_tensors, hr_tensors)\n",
        "lr_tensors.shape, hr_tensors.shape"
      ]
    },
    {
      "cell_type": "code",
      "execution_count": 5,
      "id": "adc939f5-b866-43ed-91dc-b7fc1708589d",
      "metadata": {
        "colab": {
          "base_uri": "https://localhost:8080/",
          "height": 1000
        },
        "id": "adc939f5-b866-43ed-91dc-b7fc1708589d",
        "outputId": "2b49a248-4400-40b7-f38f-1cf32a3201d4"
      },
      "outputs": [
        {
          "name": "stdout",
          "output_type": "stream",
          "text": [
            "MLP model total trainable parameters: 19637224\n"
          ]
        }
      ],
      "source": [
        "args = {'lr_dim': 160,\n",
        "        'hr_dim': 268,\n",
        "        'hidden_dim': 100,\n",
        "        'device': device,\n",
        "        'num_layers': 4,\n",
        "        'ks': [0.9, 0.7, 0.6, 0.5],}\n",
        "\n",
        "model = MLP(args)\n",
        "\n",
        "print(\"MLP model total trainable parameters:\", sum(p.numel() for p in model.parameters()))\n",
        "#DDPM is 19478465 params, make sure it is equal for fair comparison\n",
        "\n",
        "lr = 1e-4\n",
        "patience = 10 # 50\n",
        "n_epoch = 100\n",
        "batch_size = 32"
      ]
    },
    {
      "cell_type": "code",
      "execution_count": 6,
      "id": "d263e3eb",
      "metadata": {},
      "outputs": [
        {
          "name": "stdout",
          "output_type": "stream",
          "text": [
            "Fold 1:\n",
            "MLP model total trainable parameters: 19637224\n"
          ]
        },
        {
          "data": {
            "application/vnd.jupyter.widget-view+json": {
              "model_id": "e25892a4e1354d6f92a1d9f76b4a85ba",
              "version_major": 2,
              "version_minor": 0
            },
            "text/plain": [
              "  0%|          | 0/100 [00:00<?, ?it/s]"
            ]
          },
          "metadata": {},
          "output_type": "display_data"
        },
        {
          "name": "stdout",
          "output_type": "stream",
          "text": [
            "Epoch 0, train_loss: 0.1235, val_loss: 0.1177\n",
            "Epoch 1, train_loss: 0.1224, val_loss: 0.1164\n",
            "Epoch 2, train_loss: 0.1234, val_loss: 0.1143\n",
            "Epoch 3, train_loss: 0.1186, val_loss: 0.1109\n",
            "Epoch 4, train_loss: 0.1166, val_loss: 0.1064\n",
            "Epoch 5, train_loss: 0.1086, val_loss: 0.1008\n",
            "Epoch 6, train_loss: 0.1035, val_loss: 0.0944\n",
            "Epoch 7, train_loss: 0.0964, val_loss: 0.0877\n",
            "Epoch 8, train_loss: 0.0878, val_loss: 0.0809\n",
            "Epoch 9, train_loss: 0.0822, val_loss: 0.0743\n",
            "Epoch 10, train_loss: 0.0748, val_loss: 0.0680\n",
            "Epoch 11, train_loss: 0.0689, val_loss: 0.0622\n",
            "Epoch 12, train_loss: 0.0629, val_loss: 0.0569\n",
            "Epoch 13, train_loss: 0.0576, val_loss: 0.0522\n",
            "Epoch 14, train_loss: 0.0527, val_loss: 0.0480\n",
            "Epoch 15, train_loss: 0.0495, val_loss: 0.0445\n",
            "Epoch 16, train_loss: 0.0461, val_loss: 0.0415\n",
            "Epoch 17, train_loss: 0.0422, val_loss: 0.0389\n",
            "Epoch 18, train_loss: 0.0398, val_loss: 0.0368\n",
            "Epoch 19, train_loss: 0.0376, val_loss: 0.0351\n",
            "Epoch 20, train_loss: 0.0360, val_loss: 0.0336\n",
            "Epoch 21, train_loss: 0.0345, val_loss: 0.0324\n",
            "Epoch 22, train_loss: 0.0341, val_loss: 0.0315\n",
            "Epoch 23, train_loss: 0.0328, val_loss: 0.0307\n",
            "Epoch 24, train_loss: 0.0315, val_loss: 0.0300\n",
            "Epoch 25, train_loss: 0.0314, val_loss: 0.0295\n",
            "Epoch 26, train_loss: 0.0305, val_loss: 0.0291\n",
            "Epoch 27, train_loss: 0.0305, val_loss: 0.0287\n",
            "Epoch 28, train_loss: 0.0299, val_loss: 0.0284\n",
            "Epoch 29, train_loss: 0.0295, val_loss: 0.0282\n",
            "Epoch 30, train_loss: 0.0292, val_loss: 0.0280\n",
            "Epoch 31, train_loss: 0.0288, val_loss: 0.0278\n",
            "Epoch 32, train_loss: 0.0289, val_loss: 0.0277\n",
            "Epoch 33, train_loss: 0.0290, val_loss: 0.0276\n",
            "Epoch 34, train_loss: 0.0287, val_loss: 0.0275\n",
            "Epoch 35, train_loss: 0.0284, val_loss: 0.0274\n",
            "Epoch 36, train_loss: 0.0283, val_loss: 0.0273\n",
            "Epoch 37, train_loss: 0.0282, val_loss: 0.0273\n",
            "Epoch 38, train_loss: 0.0281, val_loss: 0.0273\n",
            "Epoch 39, train_loss: 0.0282, val_loss: 0.0272\n",
            "Epoch 40, train_loss: 0.0289, val_loss: 0.0272\n",
            "Epoch 41, train_loss: 0.0283, val_loss: 0.0271\n",
            "Epoch 42, train_loss: 0.0292, val_loss: 0.0271\n",
            "Epoch 43, train_loss: 0.0281, val_loss: 0.0271\n",
            "Epoch 44, train_loss: 0.0284, val_loss: 0.0271\n",
            "Epoch 45, train_loss: 0.0282, val_loss: 0.0271\n",
            "Epoch 46, train_loss: 0.0278, val_loss: 0.0270\n",
            "Epoch 47, train_loss: 0.0285, val_loss: 0.0270\n",
            "Epoch 48, train_loss: 0.0281, val_loss: 0.0270\n",
            "Epoch 49, train_loss: 0.0286, val_loss: 0.0270\n",
            "Epoch 50, train_loss: 0.0281, val_loss: 0.0270\n",
            "Epoch 51, train_loss: 0.0287, val_loss: 0.0270\n",
            "Epoch 52, train_loss: 0.0280, val_loss: 0.0270\n",
            "Epoch 53, train_loss: 0.0285, val_loss: 0.0270\n",
            "Epoch 54, train_loss: 0.0284, val_loss: 0.0270\n",
            "Epoch 55, train_loss: 0.0284, val_loss: 0.0270\n",
            "Epoch 56, train_loss: 0.0282, val_loss: 0.0270\n",
            "Epoch 57, train_loss: 0.0285, val_loss: 0.0270\n",
            "Epoch 58, train_loss: 0.0281, val_loss: 0.0270\n",
            "Epoch 59, train_loss: 0.0279, val_loss: 0.0270\n",
            "Epoch 60, train_loss: 0.0282, val_loss: 0.0269\n",
            "Epoch 61, train_loss: 0.0289, val_loss: 0.0269\n",
            "Epoch 62, train_loss: 0.0280, val_loss: 0.0269\n",
            "Epoch 63, train_loss: 0.0280, val_loss: 0.0269\n",
            "Epoch 64, train_loss: 0.0282, val_loss: 0.0269\n",
            "Epoch 65, train_loss: 0.0280, val_loss: 0.0269\n",
            "Epoch 66, train_loss: 0.0280, val_loss: 0.0269\n",
            "Epoch 67, train_loss: 0.0287, val_loss: 0.0269\n",
            "Epoch 68, train_loss: 0.0278, val_loss: 0.0269\n",
            "Epoch 69, train_loss: 0.0283, val_loss: 0.0269\n",
            "Epoch 70, train_loss: 0.0283, val_loss: 0.0269\n",
            "Epoch 71, train_loss: 0.0286, val_loss: 0.0269\n",
            "Early stopping triggered after 71 epochs.\n"
          ]
        },
        {
          "data": {
            "application/vnd.jupyter.widget-view+json": {
              "model_id": "66c25651cec54319b1d6dd329dd1e14f",
              "version_major": 2,
              "version_minor": 0
            },
            "text/plain": [
              "Processing samples:   0%|          | 0/56 [00:00<?, ?it/s]"
            ]
          },
          "metadata": {},
          "output_type": "display_data"
        },
        {
          "name": "stdout",
          "output_type": "stream",
          "text": [
            "Overall MAE: 0.1337478905916214\n",
            "Pearson Correlation Coefficient (PCC): 0.6603991\n",
            "Jensen-Shannon Distance: 0.28083251060644543\n",
            "Average MAE Betweenness Centrality: 0.02054413310113404\n",
            "Average MAE Eigenvector Centrality: 0.01373924329348614\n",
            "Average MAE PageRank Centrality: 0.0005486184314091653\n",
            "Average Clustering MAE: 0.13786206896094627\n",
            "Average Degree MAE: 0.5390191897654584\n"
          ]
        },
        {
          "data": {
            "application/vnd.jupyter.widget-view+json": {
              "model_id": "1a336fb390f5407fb9401e1b5aa4b285",
              "version_major": 2,
              "version_minor": 0
            },
            "text/plain": [
              "  0%|          | 0/112 [00:00<?, ?it/s]"
            ]
          },
          "metadata": {},
          "output_type": "display_data"
        },
        {
          "name": "stdout",
          "output_type": "stream",
          "text": [
            "torch.Size([71824])\n",
            "Generated 112 predictions\n",
            "Creating File at results/MLP/predictions_fold_1.csv...\n",
            "Done!\n"
          ]
        },
        {
          "data": {
            "image/png": "[encoded data removed]",
            "text/plain": [
              "<Figure size 2000x600 with 1 Axes>"
            ]
          },
          "metadata": {},
          "output_type": "display_data"
        },
        {
          "name": "stdout",
          "output_type": "stream",
          "text": [
            "Fold 2:\n",
            "MLP model total trainable parameters: 19637224\n"
          ]
        },
        {
          "data": {
            "application/vnd.jupyter.widget-view+json": {
              "model_id": "aca9b1bf83e8403b8cb342bd45845844",
              "version_major": 2,
              "version_minor": 0
            },
            "text/plain": [
              "  0%|          | 0/100 [00:00<?, ?it/s]"
            ]
          },
          "metadata": {},
          "output_type": "display_data"
        },
        {
          "name": "stdout",
          "output_type": "stream",
          "text": [
            "Epoch 0, train_loss: 0.1212, val_loss: 0.1256\n",
            "Epoch 1, train_loss: 0.1209, val_loss: 0.1244\n",
            "Epoch 2, train_loss: 0.1179, val_loss: 0.1223\n",
            "Epoch 3, train_loss: 0.1157, val_loss: 0.1191\n",
            "Epoch 4, train_loss: 0.1128, val_loss: 0.1147\n",
            "Epoch 5, train_loss: 0.1070, val_loss: 0.1093\n",
            "Epoch 6, train_loss: 0.1028, val_loss: 0.1030\n",
            "Epoch 7, train_loss: 0.0959, val_loss: 0.0963\n",
            "Epoch 8, train_loss: 0.0901, val_loss: 0.0894\n",
            "Epoch 9, train_loss: 0.0840, val_loss: 0.0826\n",
            "Epoch 10, train_loss: 0.0764, val_loss: 0.0761\n",
            "Epoch 11, train_loss: 0.0698, val_loss: 0.0700\n",
            "Epoch 12, train_loss: 0.0638, val_loss: 0.0643\n",
            "Epoch 13, train_loss: 0.0588, val_loss: 0.0593\n",
            "Epoch 14, train_loss: 0.0539, val_loss: 0.0548\n",
            "Epoch 15, train_loss: 0.0501, val_loss: 0.0509\n",
            "Epoch 16, train_loss: 0.0459, val_loss: 0.0475\n",
            "Epoch 17, train_loss: 0.0427, val_loss: 0.0447\n",
            "Epoch 18, train_loss: 0.0404, val_loss: 0.0422\n",
            "Epoch 19, train_loss: 0.0379, val_loss: 0.0402\n",
            "Epoch 20, train_loss: 0.0362, val_loss: 0.0385\n",
            "Epoch 21, train_loss: 0.0343, val_loss: 0.0371\n",
            "Epoch 22, train_loss: 0.0330, val_loss: 0.0360\n",
            "Epoch 23, train_loss: 0.0320, val_loss: 0.0350\n",
            "Epoch 24, train_loss: 0.0310, val_loss: 0.0342\n",
            "Epoch 25, train_loss: 0.0307, val_loss: 0.0335\n",
            "Epoch 26, train_loss: 0.0296, val_loss: 0.0330\n",
            "Epoch 27, train_loss: 0.0290, val_loss: 0.0326\n",
            "Epoch 28, train_loss: 0.0286, val_loss: 0.0322\n",
            "Epoch 29, train_loss: 0.0283, val_loss: 0.0319\n",
            "Epoch 30, train_loss: 0.0279, val_loss: 0.0317\n",
            "Epoch 31, train_loss: 0.0282, val_loss: 0.0315\n",
            "Epoch 32, train_loss: 0.0276, val_loss: 0.0313\n",
            "Epoch 33, train_loss: 0.0273, val_loss: 0.0311\n",
            "Epoch 34, train_loss: 0.0270, val_loss: 0.0310\n",
            "Epoch 35, train_loss: 0.0273, val_loss: 0.0309\n",
            "Epoch 36, train_loss: 0.0271, val_loss: 0.0308\n",
            "Epoch 37, train_loss: 0.0272, val_loss: 0.0308\n",
            "Epoch 38, train_loss: 0.0271, val_loss: 0.0307\n",
            "Epoch 39, train_loss: 0.0269, val_loss: 0.0306\n",
            "Epoch 40, train_loss: 0.0270, val_loss: 0.0306\n",
            "Epoch 41, train_loss: 0.0271, val_loss: 0.0306\n",
            "Epoch 42, train_loss: 0.0269, val_loss: 0.0305\n",
            "Epoch 43, train_loss: 0.0267, val_loss: 0.0305\n",
            "Epoch 44, train_loss: 0.0267, val_loss: 0.0305\n",
            "Epoch 45, train_loss: 0.0267, val_loss: 0.0305\n",
            "Epoch 46, train_loss: 0.0267, val_loss: 0.0304\n",
            "Epoch 47, train_loss: 0.0269, val_loss: 0.0304\n",
            "Epoch 48, train_loss: 0.0267, val_loss: 0.0304\n",
            "Epoch 49, train_loss: 0.0270, val_loss: 0.0304\n",
            "Epoch 50, train_loss: 0.0269, val_loss: 0.0304\n",
            "Epoch 51, train_loss: 0.0265, val_loss: 0.0304\n",
            "Epoch 52, train_loss: 0.0266, val_loss: 0.0304\n",
            "Epoch 53, train_loss: 0.0266, val_loss: 0.0303\n",
            "Epoch 54, train_loss: 0.0269, val_loss: 0.0303\n",
            "Epoch 55, train_loss: 0.0264, val_loss: 0.0303\n",
            "Epoch 56, train_loss: 0.0265, val_loss: 0.0303\n",
            "Epoch 57, train_loss: 0.0266, val_loss: 0.0303\n",
            "Epoch 58, train_loss: 0.0267, val_loss: 0.0303\n",
            "Epoch 59, train_loss: 0.0261, val_loss: 0.0303\n",
            "Epoch 60, train_loss: 0.0266, val_loss: 0.0303\n",
            "Epoch 61, train_loss: 0.0266, val_loss: 0.0303\n",
            "Epoch 62, train_loss: 0.0265, val_loss: 0.0303\n",
            "Epoch 63, train_loss: 0.0267, val_loss: 0.0303\n",
            "Epoch 64, train_loss: 0.0265, val_loss: 0.0303\n",
            "Epoch 65, train_loss: 0.0267, val_loss: 0.0303\n",
            "Epoch 66, train_loss: 0.0266, val_loss: 0.0303\n",
            "Epoch 67, train_loss: 0.0265, val_loss: 0.0303\n",
            "Epoch 68, train_loss: 0.0263, val_loss: 0.0303\n",
            "Epoch 69, train_loss: 0.0267, val_loss: 0.0303\n",
            "Epoch 70, train_loss: 0.0264, val_loss: 0.0303\n",
            "Epoch 71, train_loss: 0.0265, val_loss: 0.0303\n",
            "Epoch 72, train_loss: 0.0263, val_loss: 0.0303\n",
            "Epoch 73, train_loss: 0.0265, val_loss: 0.0303\n",
            "Epoch 74, train_loss: 0.0264, val_loss: 0.0303\n",
            "Epoch 75, train_loss: 0.0265, val_loss: 0.0303\n",
            "Epoch 76, train_loss: 0.0265, val_loss: 0.0303\n",
            "Epoch 77, train_loss: 0.0265, val_loss: 0.0303\n",
            "Epoch 78, train_loss: 0.0264, val_loss: 0.0303\n",
            "Epoch 79, train_loss: 0.0268, val_loss: 0.0303\n",
            "Epoch 80, train_loss: 0.0266, val_loss: 0.0303\n",
            "Epoch 81, train_loss: 0.0263, val_loss: 0.0303\n",
            "Epoch 82, train_loss: 0.0266, val_loss: 0.0303\n",
            "Epoch 83, train_loss: 0.0264, val_loss: 0.0303\n",
            "Epoch 84, train_loss: 0.0266, val_loss: 0.0303\n",
            "Epoch 85, train_loss: 0.0262, val_loss: 0.0303\n",
            "Epoch 86, train_loss: 0.0267, val_loss: 0.0303\n",
            "Epoch 87, train_loss: 0.0265, val_loss: 0.0303\n",
            "Epoch 88, train_loss: 0.0266, val_loss: 0.0303\n",
            "Epoch 89, train_loss: 0.0265, val_loss: 0.0303\n",
            "Epoch 90, train_loss: 0.0268, val_loss: 0.0303\n",
            "Epoch 91, train_loss: 0.0263, val_loss: 0.0303\n",
            "Epoch 92, train_loss: 0.0264, val_loss: 0.0303\n",
            "Epoch 93, train_loss: 0.0265, val_loss: 0.0303\n",
            "Epoch 94, train_loss: 0.0264, val_loss: 0.0303\n",
            "Epoch 95, train_loss: 0.0268, val_loss: 0.0303\n",
            "Epoch 96, train_loss: 0.0266, val_loss: 0.0303\n",
            "Epoch 97, train_loss: 0.0269, val_loss: 0.0303\n",
            "Epoch 98, train_loss: 0.0265, val_loss: 0.0303\n",
            "Epoch 99, train_loss: 0.0265, val_loss: 0.0303\n"
          ]
        },
        {
          "data": {
            "application/vnd.jupyter.widget-view+json": {
              "model_id": "161430f6144b41f39d0287b02b9c4078",
              "version_major": 2,
              "version_minor": 0
            },
            "text/plain": [
              "Processing samples:   0%|          | 0/56 [00:00<?, ?it/s]"
            ]
          },
          "metadata": {},
          "output_type": "display_data"
        },
        {
          "name": "stdout",
          "output_type": "stream",
          "text": [
            "Overall MAE: 0.14065352082252502\n",
            "Pearson Correlation Coefficient (PCC): 0.64578295\n",
            "Jensen-Shannon Distance: 0.2885675058374772\n",
            "Average MAE Betweenness Centrality: 0.021050200202237707\n",
            "Average MAE Eigenvector Centrality: 0.014058613328792848\n",
            "Average MAE PageRank Centrality: 0.0005491874492825959\n",
            "Average Clustering MAE: 0.1434820292938989\n",
            "Average Degree MAE: 0.5604877398720682\n"
          ]
        },
        {
          "data": {
            "application/vnd.jupyter.widget-view+json": {
              "model_id": "aa83ad58dae7452c99b9491c08e811ef",
              "version_major": 2,
              "version_minor": 0
            },
            "text/plain": [
              "  0%|          | 0/112 [00:00<?, ?it/s]"
            ]
          },
          "metadata": {},
          "output_type": "display_data"
        },
        {
          "name": "stdout",
          "output_type": "stream",
          "text": [
            "torch.Size([71824])\n",
            "Generated 112 predictions\n",
            "Creating File at results/MLP/predictions_fold_2.csv...\n",
            "Done!\n"
          ]
        },
        {
          "data": {
            "image/png": "[encoded data removed]",
            "text/plain": [
              "<Figure size 2000x600 with 1 Axes>"
            ]
          },
          "metadata": {},
          "output_type": "display_data"
        },
        {
          "name": "stdout",
          "output_type": "stream",
          "text": [
            "Fold 3:\n",
            "MLP model total trainable parameters: 19637224\n"
          ]
        },
        {
          "data": {
            "application/vnd.jupyter.widget-view+json": {
              "model_id": "48064428444b4e9ab17b52105e135af1",
              "version_major": 2,
              "version_minor": 0
            },
            "text/plain": [
              "  0%|          | 0/100 [00:00<?, ?it/s]"
            ]
          },
          "metadata": {},
          "output_type": "display_data"
        },
        {
          "name": "stdout",
          "output_type": "stream",
          "text": [
            "Epoch 0, train_loss: 0.1249, val_loss: 0.1213\n",
            "Epoch 1, train_loss: 0.1204, val_loss: 0.1199\n",
            "Epoch 2, train_loss: 0.1185, val_loss: 0.1176\n",
            "Epoch 3, train_loss: 0.1173, val_loss: 0.1141\n",
            "Epoch 4, train_loss: 0.1133, val_loss: 0.1094\n",
            "Epoch 5, train_loss: 0.1075, val_loss: 0.1036\n",
            "Epoch 6, train_loss: 0.1010, val_loss: 0.0970\n",
            "Epoch 7, train_loss: 0.0935, val_loss: 0.0901\n",
            "Epoch 8, train_loss: 0.0877, val_loss: 0.0832\n",
            "Epoch 9, train_loss: 0.0797, val_loss: 0.0765\n",
            "Epoch 10, train_loss: 0.0734, val_loss: 0.0701\n",
            "Epoch 11, train_loss: 0.0678, val_loss: 0.0642\n",
            "Epoch 12, train_loss: 0.0617, val_loss: 0.0588\n",
            "Epoch 13, train_loss: 0.0567, val_loss: 0.0540\n",
            "Epoch 14, train_loss: 0.0524, val_loss: 0.0498\n",
            "Epoch 15, train_loss: 0.0485, val_loss: 0.0462\n",
            "Epoch 16, train_loss: 0.0445, val_loss: 0.0431\n",
            "Epoch 17, train_loss: 0.0417, val_loss: 0.0404\n",
            "Epoch 18, train_loss: 0.0399, val_loss: 0.0382\n",
            "Epoch 19, train_loss: 0.0372, val_loss: 0.0364\n",
            "Epoch 20, train_loss: 0.0355, val_loss: 0.0349\n",
            "Epoch 21, train_loss: 0.0342, val_loss: 0.0337\n",
            "Epoch 22, train_loss: 0.0330, val_loss: 0.0327\n",
            "Epoch 23, train_loss: 0.0323, val_loss: 0.0318\n",
            "Epoch 24, train_loss: 0.0317, val_loss: 0.0311\n",
            "Epoch 25, train_loss: 0.0306, val_loss: 0.0306\n",
            "Epoch 26, train_loss: 0.0302, val_loss: 0.0301\n",
            "Epoch 27, train_loss: 0.0297, val_loss: 0.0297\n",
            "Epoch 28, train_loss: 0.0294, val_loss: 0.0294\n",
            "Epoch 29, train_loss: 0.0297, val_loss: 0.0292\n",
            "Epoch 30, train_loss: 0.0288, val_loss: 0.0289\n",
            "Epoch 31, train_loss: 0.0284, val_loss: 0.0288\n",
            "Epoch 32, train_loss: 0.0286, val_loss: 0.0286\n",
            "Epoch 33, train_loss: 0.0285, val_loss: 0.0285\n",
            "Epoch 34, train_loss: 0.0281, val_loss: 0.0284\n",
            "Epoch 35, train_loss: 0.0281, val_loss: 0.0283\n",
            "Epoch 36, train_loss: 0.0280, val_loss: 0.0283\n",
            "Epoch 37, train_loss: 0.0281, val_loss: 0.0282\n",
            "Epoch 38, train_loss: 0.0280, val_loss: 0.0281\n",
            "Epoch 39, train_loss: 0.0278, val_loss: 0.0281\n",
            "Epoch 40, train_loss: 0.0279, val_loss: 0.0280\n",
            "Epoch 41, train_loss: 0.0276, val_loss: 0.0280\n",
            "Epoch 42, train_loss: 0.0279, val_loss: 0.0280\n",
            "Epoch 43, train_loss: 0.0277, val_loss: 0.0280\n",
            "Epoch 44, train_loss: 0.0277, val_loss: 0.0279\n",
            "Epoch 45, train_loss: 0.0277, val_loss: 0.0279\n",
            "Epoch 46, train_loss: 0.0279, val_loss: 0.0279\n",
            "Epoch 47, train_loss: 0.0277, val_loss: 0.0279\n",
            "Epoch 48, train_loss: 0.0281, val_loss: 0.0279\n",
            "Epoch 49, train_loss: 0.0277, val_loss: 0.0279\n",
            "Epoch 50, train_loss: 0.0277, val_loss: 0.0279\n",
            "Epoch 51, train_loss: 0.0276, val_loss: 0.0279\n",
            "Epoch 52, train_loss: 0.0276, val_loss: 0.0278\n",
            "Epoch 53, train_loss: 0.0275, val_loss: 0.0278\n",
            "Epoch 54, train_loss: 0.0278, val_loss: 0.0278\n",
            "Epoch 55, train_loss: 0.0282, val_loss: 0.0278\n",
            "Epoch 56, train_loss: 0.0276, val_loss: 0.0278\n",
            "Epoch 57, train_loss: 0.0277, val_loss: 0.0278\n",
            "Epoch 58, train_loss: 0.0277, val_loss: 0.0278\n",
            "Epoch 59, train_loss: 0.0277, val_loss: 0.0278\n",
            "Epoch 60, train_loss: 0.0280, val_loss: 0.0278\n",
            "Epoch 61, train_loss: 0.0280, val_loss: 0.0278\n",
            "Epoch 62, train_loss: 0.0275, val_loss: 0.0278\n",
            "Epoch 63, train_loss: 0.0274, val_loss: 0.0278\n",
            "Epoch 64, train_loss: 0.0276, val_loss: 0.0278\n",
            "Epoch 65, train_loss: 0.0277, val_loss: 0.0278\n",
            "Epoch 66, train_loss: 0.0276, val_loss: 0.0278\n",
            "Epoch 67, train_loss: 0.0282, val_loss: 0.0278\n",
            "Epoch 68, train_loss: 0.0276, val_loss: 0.0278\n",
            "Epoch 69, train_loss: 0.0275, val_loss: 0.0278\n",
            "Epoch 70, train_loss: 0.0276, val_loss: 0.0278\n",
            "Epoch 71, train_loss: 0.0274, val_loss: 0.0278\n",
            "Epoch 72, train_loss: 0.0276, val_loss: 0.0278\n",
            "Epoch 73, train_loss: 0.0273, val_loss: 0.0278\n",
            "Epoch 74, train_loss: 0.0276, val_loss: 0.0278\n",
            "Epoch 75, train_loss: 0.0273, val_loss: 0.0278\n",
            "Epoch 76, train_loss: 0.0276, val_loss: 0.0278\n",
            "Epoch 77, train_loss: 0.0273, val_loss: 0.0278\n",
            "Epoch 78, train_loss: 0.0274, val_loss: 0.0278\n",
            "Epoch 79, train_loss: 0.0274, val_loss: 0.0278\n",
            "Epoch 80, train_loss: 0.0275, val_loss: 0.0278\n",
            "Epoch 81, train_loss: 0.0274, val_loss: 0.0278\n",
            "Epoch 82, train_loss: 0.0282, val_loss: 0.0278\n",
            "Epoch 83, train_loss: 0.0275, val_loss: 0.0278\n",
            "Epoch 84, train_loss: 0.0274, val_loss: 0.0278\n",
            "Epoch 85, train_loss: 0.0276, val_loss: 0.0278\n",
            "Epoch 86, train_loss: 0.0283, val_loss: 0.0278\n",
            "Epoch 87, train_loss: 0.0282, val_loss: 0.0278\n",
            "Epoch 88, train_loss: 0.0285, val_loss: 0.0278\n",
            "Epoch 89, train_loss: 0.0277, val_loss: 0.0278\n",
            "Epoch 90, train_loss: 0.0276, val_loss: 0.0278\n",
            "Epoch 91, train_loss: 0.0276, val_loss: 0.0278\n",
            "Early stopping triggered after 91 epochs.\n"
          ]
        },
        {
          "data": {
            "application/vnd.jupyter.widget-view+json": {
              "model_id": "e01b93f73397464e92df0611337fa3ce",
              "version_major": 2,
              "version_minor": 0
            },
            "text/plain": [
              "Processing samples:   0%|          | 0/55 [00:00<?, ?it/s]"
            ]
          },
          "metadata": {},
          "output_type": "display_data"
        },
        {
          "name": "stdout",
          "output_type": "stream",
          "text": [
            "Overall MAE: 0.13583000004291534\n",
            "Pearson Correlation Coefficient (PCC): 0.6638247\n",
            "Jensen-Shannon Distance: 0.2811648584345198\n",
            "Average MAE Betweenness Centrality: 0.020732739109218624\n",
            "Average MAE Eigenvector Centrality: 0.013218831097467956\n",
            "Average MAE PageRank Centrality: 0.000545445120198701\n",
            "Average Clustering MAE: 0.13818541567309944\n",
            "Average Degree MAE: 0.5420637720488467\n"
          ]
        },
        {
          "data": {
            "application/vnd.jupyter.widget-view+json": {
              "model_id": "3e4f776f88014377ac41cc2ffe126e44",
              "version_major": 2,
              "version_minor": 0
            },
            "text/plain": [
              "  0%|          | 0/112 [00:00<?, ?it/s]"
            ]
          },
          "metadata": {},
          "output_type": "display_data"
        },
        {
          "name": "stdout",
          "output_type": "stream",
          "text": [
            "torch.Size([71824])\n",
            "Generated 112 predictions\n",
            "Creating File at results/MLP/predictions_fold_3.csv...\n",
            "Done!\n"
          ]
        },
        {
          "data": {
            "image/png": "[encoded data removed]",
            "text/plain": [
              "<Figure size 2000x600 with 1 Axes>"
            ]
          },
          "metadata": {},
          "output_type": "display_data"
        },
        {
          "name": "stdout",
          "output_type": "stream",
          "text": [
            "Results saved to results/MLP/metrics.csv\n"
          ]
        }
      ],
      "source": [
        "metrics_by_fold, run_history = run_kfold_MLP(MLP, args, patience, n_epoch, lr, device, dataset, test_lr_tensors, seed=random_seed, k=3, save=\"MLP\", plot=True)"
      ]
    },
    {
      "cell_type": "code",
      "execution_count": 7,
      "id": "c70489e6",
      "metadata": {},
      "outputs": [
        {
          "data": {
            "image/png": "[encoded data removed]",
            "text/plain": [
              "<Figure size 3000x1200 with 4 Axes>"
            ]
          },
          "metadata": {},
          "output_type": "display_data"
        }
      ],
      "source": [
        "plot_metrics(metrics_by_fold, k=3)"
      ]
    },
    {
      "cell_type": "code",
      "execution_count": 8,
      "id": "5b2d0a75",
      "metadata": {},
      "outputs": [
        {
          "name": "stdout",
          "output_type": "stream",
          "text": [
            "Run 0: Max RAM = 899.5390625 MB, Max VRAM = 1956.5 MB, Time = 182.774 sec\n",
            "Run 1: Max RAM = 1021.71484375 MB, Max VRAM = 1956.5 MB, Time = 208.478 sec\n",
            "Run 2: Max RAM = 1025.59375 MB, Max VRAM = 1956.5 MB, Time = 198.733 sec\n"
          ]
        }
      ],
      "source": [
        "for run_id, run_data in run_history.items():\n",
        "    # Combine the training and evaluation metrics\n",
        "    usage_data = run_data.get(\"system_usage\", [])\n",
        "    eval_data = run_data.get(\"system_usage_eval\", [])\n",
        "    time = run_data.get(\"time\")\n",
        "    combined_data = usage_data + eval_data\n",
        "\n",
        "    # Calculate the maximum RAM_MB and VRAM_MB\n",
        "    max_ram = max(entry[\"RAM_MB\"] for entry in combined_data if \"RAM_MB\" in entry)\n",
        "    max_vram = max(entry[\"VRAM_MB\"] for entry in combined_data if \"VRAM_MB\" in entry)\n",
        "    \n",
        "    print(f\"Run {run_id}: Max RAM = {max_ram} MB, Max VRAM = {max_vram} MB, Time = {time:.3f} sec\")"
      ]
    },
    {
      "cell_type": "code",
      "execution_count": null,
      "id": "4ded39d5",
      "metadata": {},
      "outputs": [],
      "source": []
    }
  ],
  "metadata": {
    "accelerator": "GPU",
    "colab": {
      "gpuType": "A100",
      "provenance": []
    },
    "kernelspec": {
      "display_name": "deeplearning",
      "language": "python",
      "name": "python3"
    },
    "language_info": {
      "codemirror_mode": {
        "name": "ipython",
        "version": 3
      },
      "file_extension": ".py",
      "mimetype": "text/x-python",
      "name": "python",
      "nbconvert_exporter": "python",
      "pygments_lexer": "ipython3",
      "version": "3.10.16"
    },
    "widgets": {
      "application/vnd.jupyter.widget-state+json": {
        "0535413980fc4277bcdecbd33646142d": {
          "model_module": "@jupyter-widgets/controls",
          "model_module_version": "1.5.0",
          "model_name": "HTMLModel",
          "state": {
            "_dom_classes": [],
            "_model_module": "@jupyter-widgets/controls",
            "_model_module_version": "1.5.0",
            "_model_name": "HTMLModel",
            "_view_count": null,
            "_view_module": "@jupyter-widgets/controls",
            "_view_module_version": "1.5.0",
            "_view_name": "HTMLView",
            "description": "",
            "description_tooltip": null,
            "layout": "IPY_MODEL_db0897a261694c83be6888afa396f774",
            "placeholder": "​",
            "style": "IPY_MODEL_7c5760ea3b704244be18ebedf0a62d98",
            "value": " 100/100 [03:00&lt;00:00,  1.80s/it]"
          }
        },
        "1a72e2c2f34e48b58c68751ee8cfbf58": {
          "model_module": "@jupyter-widgets/base",
          "model_module_version": "1.2.0",
          "model_name": "LayoutModel",
          "state": {
            "_model_module": "@jupyter-widgets/base",
            "_model_module_version": "1.2.0",
            "_model_name": "LayoutModel",
            "_view_count": null,
            "_view_module": "@jupyter-widgets/base",
            "_view_module_version": "1.2.0",
            "_view_name": "LayoutView",
            "align_content": null,
            "align_items": null,
            "align_self": null,
            "border": null,
            "bottom": null,
            "display": null,
            "flex": null,
            "flex_flow": null,
            "grid_area": null,
            "grid_auto_columns": null,
            "grid_auto_flow": null,
            "grid_auto_rows": null,
            "grid_column": null,
            "grid_gap": null,
            "grid_row": null,
            "grid_template_areas": null,
            "grid_template_columns": null,
            "grid_template_rows": null,
            "height": null,
            "justify_content": null,
            "justify_items": null,
            "left": null,
            "margin": null,
            "max_height": null,
            "max_width": null,
            "min_height": null,
            "min_width": null,
            "object_fit": null,
            "object_position": null,
            "order": null,
            "overflow": null,
            "overflow_x": null,
            "overflow_y": null,
            "padding": null,
            "right": null,
            "top": null,
            "visibility": null,
            "width": null
          }
        },
        "1ccd28d16a374688a6a71b598ad27017": {
          "model_module": "@jupyter-widgets/controls",
          "model_module_version": "1.5.0",
          "model_name": "FloatProgressModel",
          "state": {
            "_dom_classes": [],
            "_model_module": "@jupyter-widgets/controls",
            "_model_module_version": "1.5.0",
            "_model_name": "FloatProgressModel",
            "_view_count": null,
            "_view_module": "@jupyter-widgets/controls",
            "_view_module_version": "1.5.0",
            "_view_name": "ProgressView",
            "bar_style": "success",
            "description": "",
            "description_tooltip": null,
            "layout": "IPY_MODEL_9c99a275cfce46d982b98340ccbcddd2",
            "max": 100,
            "min": 0,
            "orientation": "horizontal",
            "style": "IPY_MODEL_75eda2dab187477ba3bb78f54e41af4f",
            "value": 100
          }
        },
        "4c51adfec2da42719aaedf8bbecf78f2": {
          "model_module": "@jupyter-widgets/controls",
          "model_module_version": "1.5.0",
          "model_name": "HBoxModel",
          "state": {
            "_dom_classes": [],
            "_model_module": "@jupyter-widgets/controls",
            "_model_module_version": "1.5.0",
            "_model_name": "HBoxModel",
            "_view_count": null,
            "_view_module": "@jupyter-widgets/controls",
            "_view_module_version": "1.5.0",
            "_view_name": "HBoxView",
            "box_style": "",
            "children": [
              "IPY_MODEL_80cbe46eafc04f7c9bf398d096c4403d",
              "IPY_MODEL_82df01cf45104a8c85198757c2d125ef",
              "IPY_MODEL_ae376574058e4cfc9850f04d13a9e87e"
            ],
            "layout": "IPY_MODEL_d42b4838fcff42cd91908b3f67734137"
          }
        },
        "5d5a8bc24125408eae6089a74bc0a858": {
          "model_module": "@jupyter-widgets/base",
          "model_module_version": "1.2.0",
          "model_name": "LayoutModel",
          "state": {
            "_model_module": "@jupyter-widgets/base",
            "_model_module_version": "1.2.0",
            "_model_name": "LayoutModel",
            "_view_count": null,
            "_view_module": "@jupyter-widgets/base",
            "_view_module_version": "1.2.0",
            "_view_name": "LayoutView",
            "align_content": null,
            "align_items": null,
            "align_self": null,
            "border": null,
            "bottom": null,
            "display": null,
            "flex": null,
            "flex_flow": null,
            "grid_area": null,
            "grid_auto_columns": null,
            "grid_auto_flow": null,
            "grid_auto_rows": null,
            "grid_column": null,
            "grid_gap": null,
            "grid_row": null,
            "grid_template_areas": null,
            "grid_template_columns": null,
            "grid_template_rows": null,
            "height": null,
            "justify_content": null,
            "justify_items": null,
            "left": null,
            "margin": null,
            "max_height": null,
            "max_width": null,
            "min_height": null,
            "min_width": null,
            "object_fit": null,
            "object_position": null,
            "order": null,
            "overflow": null,
            "overflow_x": null,
            "overflow_y": null,
            "padding": null,
            "right": null,
            "top": null,
            "visibility": null,
            "width": null
          }
        },
        "654077eecea143a29a1701953098078f": {
          "model_module": "@jupyter-widgets/controls",
          "model_module_version": "1.5.0",
          "model_name": "DescriptionStyleModel",
          "state": {
            "_model_module": "@jupyter-widgets/controls",
            "_model_module_version": "1.5.0",
            "_model_name": "DescriptionStyleModel",
            "_view_count": null,
            "_view_module": "@jupyter-widgets/base",
            "_view_module_version": "1.2.0",
            "_view_name": "StyleView",
            "description_width": ""
          }
        },
        "75eda2dab187477ba3bb78f54e41af4f": {
          "model_module": "@jupyter-widgets/controls",
          "model_module_version": "1.5.0",
          "model_name": "ProgressStyleModel",
          "state": {
            "_model_module": "@jupyter-widgets/controls",
            "_model_module_version": "1.5.0",
            "_model_name": "ProgressStyleModel",
            "_view_count": null,
            "_view_module": "@jupyter-widgets/base",
            "_view_module_version": "1.2.0",
            "_view_name": "StyleView",
            "bar_color": null,
            "description_width": ""
          }
        },
        "7c5760ea3b704244be18ebedf0a62d98": {
          "model_module": "@jupyter-widgets/controls",
          "model_module_version": "1.5.0",
          "model_name": "DescriptionStyleModel",
          "state": {
            "_model_module": "@jupyter-widgets/controls",
            "_model_module_version": "1.5.0",
            "_model_name": "DescriptionStyleModel",
            "_view_count": null,
            "_view_module": "@jupyter-widgets/base",
            "_view_module_version": "1.2.0",
            "_view_name": "StyleView",
            "description_width": ""
          }
        },
        "80cbe46eafc04f7c9bf398d096c4403d": {
          "model_module": "@jupyter-widgets/controls",
          "model_module_version": "1.5.0",
          "model_name": "HTMLModel",
          "state": {
            "_dom_classes": [],
            "_model_module": "@jupyter-widgets/controls",
            "_model_module_version": "1.5.0",
            "_model_name": "HTMLModel",
            "_view_count": null,
            "_view_module": "@jupyter-widgets/controls",
            "_view_module_version": "1.5.0",
            "_view_name": "HTMLView",
            "description": "",
            "description_tooltip": null,
            "layout": "IPY_MODEL_1a72e2c2f34e48b58c68751ee8cfbf58",
            "placeholder": "​",
            "style": "IPY_MODEL_8b85cbdae82346afbdd7b492e1d6f344",
            "value": "100%"
          }
        },
        "82df01cf45104a8c85198757c2d125ef": {
          "model_module": "@jupyter-widgets/controls",
          "model_module_version": "1.5.0",
          "model_name": "FloatProgressModel",
          "state": {
            "_dom_classes": [],
            "_model_module": "@jupyter-widgets/controls",
            "_model_module_version": "1.5.0",
            "_model_name": "FloatProgressModel",
            "_view_count": null,
            "_view_module": "@jupyter-widgets/controls",
            "_view_module_version": "1.5.0",
            "_view_name": "ProgressView",
            "bar_style": "success",
            "description": "",
            "description_tooltip": null,
            "layout": "IPY_MODEL_a584b22660a147f1b6ed16ac5a07b58f",
            "max": 34,
            "min": 0,
            "orientation": "horizontal",
            "style": "IPY_MODEL_ab290d2dcd0f4ed39619d20aba93ef80",
            "value": 34
          }
        },
        "8b85cbdae82346afbdd7b492e1d6f344": {
          "model_module": "@jupyter-widgets/controls",
          "model_module_version": "1.5.0",
          "model_name": "DescriptionStyleModel",
          "state": {
            "_model_module": "@jupyter-widgets/controls",
            "_model_module_version": "1.5.0",
            "_model_name": "DescriptionStyleModel",
            "_view_count": null,
            "_view_module": "@jupyter-widgets/base",
            "_view_module_version": "1.2.0",
            "_view_name": "StyleView",
            "description_width": ""
          }
        },
        "9a14b998c7bc4cc892b7c431e6b8f87c": {
          "model_module": "@jupyter-widgets/controls",
          "model_module_version": "1.5.0",
          "model_name": "HBoxModel",
          "state": {
            "_dom_classes": [],
            "_model_module": "@jupyter-widgets/controls",
            "_model_module_version": "1.5.0",
            "_model_name": "HBoxModel",
            "_view_count": null,
            "_view_module": "@jupyter-widgets/controls",
            "_view_module_version": "1.5.0",
            "_view_name": "HBoxView",
            "box_style": "",
            "children": [
              "IPY_MODEL_ac375202e7084175bc51f9d8683cfff2",
              "IPY_MODEL_1ccd28d16a374688a6a71b598ad27017",
              "IPY_MODEL_0535413980fc4277bcdecbd33646142d"
            ],
            "layout": "IPY_MODEL_e79588e61bdf4f5b861c3168032d5276"
          }
        },
        "9c99a275cfce46d982b98340ccbcddd2": {
          "model_module": "@jupyter-widgets/base",
          "model_module_version": "1.2.0",
          "model_name": "LayoutModel",
          "state": {
            "_model_module": "@jupyter-widgets/base",
            "_model_module_version": "1.2.0",
            "_model_name": "LayoutModel",
            "_view_count": null,
            "_view_module": "@jupyter-widgets/base",
            "_view_module_version": "1.2.0",
            "_view_name": "LayoutView",
            "align_content": null,
            "align_items": null,
            "align_self": null,
            "border": null,
            "bottom": null,
            "display": null,
            "flex": null,
            "flex_flow": null,
            "grid_area": null,
            "grid_auto_columns": null,
            "grid_auto_flow": null,
            "grid_auto_rows": null,
            "grid_column": null,
            "grid_gap": null,
            "grid_row": null,
            "grid_template_areas": null,
            "grid_template_columns": null,
            "grid_template_rows": null,
            "height": null,
            "justify_content": null,
            "justify_items": null,
            "left": null,
            "margin": null,
            "max_height": null,
            "max_width": null,
            "min_height": null,
            "min_width": null,
            "object_fit": null,
            "object_position": null,
            "order": null,
            "overflow": null,
            "overflow_x": null,
            "overflow_y": null,
            "padding": null,
            "right": null,
            "top": null,
            "visibility": null,
            "width": null
          }
        },
        "9da36b6a25644f26a96feda7bd1a0eb8": {
          "model_module": "@jupyter-widgets/controls",
          "model_module_version": "1.5.0",
          "model_name": "DescriptionStyleModel",
          "state": {
            "_model_module": "@jupyter-widgets/controls",
            "_model_module_version": "1.5.0",
            "_model_name": "DescriptionStyleModel",
            "_view_count": null,
            "_view_module": "@jupyter-widgets/base",
            "_view_module_version": "1.2.0",
            "_view_name": "StyleView",
            "description_width": ""
          }
        },
        "a584b22660a147f1b6ed16ac5a07b58f": {
          "model_module": "@jupyter-widgets/base",
          "model_module_version": "1.2.0",
          "model_name": "LayoutModel",
          "state": {
            "_model_module": "@jupyter-widgets/base",
            "_model_module_version": "1.2.0",
            "_model_name": "LayoutModel",
            "_view_count": null,
            "_view_module": "@jupyter-widgets/base",
            "_view_module_version": "1.2.0",
            "_view_name": "LayoutView",
            "align_content": null,
            "align_items": null,
            "align_self": null,
            "border": null,
            "bottom": null,
            "display": null,
            "flex": null,
            "flex_flow": null,
            "grid_area": null,
            "grid_auto_columns": null,
            "grid_auto_flow": null,
            "grid_auto_rows": null,
            "grid_column": null,
            "grid_gap": null,
            "grid_row": null,
            "grid_template_areas": null,
            "grid_template_columns": null,
            "grid_template_rows": null,
            "height": null,
            "justify_content": null,
            "justify_items": null,
            "left": null,
            "margin": null,
            "max_height": null,
            "max_width": null,
            "min_height": null,
            "min_width": null,
            "object_fit": null,
            "object_position": null,
            "order": null,
            "overflow": null,
            "overflow_x": null,
            "overflow_y": null,
            "padding": null,
            "right": null,
            "top": null,
            "visibility": null,
            "width": null
          }
        },
        "ab290d2dcd0f4ed39619d20aba93ef80": {
          "model_module": "@jupyter-widgets/controls",
          "model_module_version": "1.5.0",
          "model_name": "ProgressStyleModel",
          "state": {
            "_model_module": "@jupyter-widgets/controls",
            "_model_module_version": "1.5.0",
            "_model_name": "ProgressStyleModel",
            "_view_count": null,
            "_view_module": "@jupyter-widgets/base",
            "_view_module_version": "1.2.0",
            "_view_name": "StyleView",
            "bar_color": null,
            "description_width": ""
          }
        },
        "ac375202e7084175bc51f9d8683cfff2": {
          "model_module": "@jupyter-widgets/controls",
          "model_module_version": "1.5.0",
          "model_name": "HTMLModel",
          "state": {
            "_dom_classes": [],
            "_model_module": "@jupyter-widgets/controls",
            "_model_module_version": "1.5.0",
            "_model_name": "HTMLModel",
            "_view_count": null,
            "_view_module": "@jupyter-widgets/controls",
            "_view_module_version": "1.5.0",
            "_view_name": "HTMLView",
            "description": "",
            "description_tooltip": null,
            "layout": "IPY_MODEL_5d5a8bc24125408eae6089a74bc0a858",
            "placeholder": "​",
            "style": "IPY_MODEL_9da36b6a25644f26a96feda7bd1a0eb8",
            "value": "Epoch 99 - train_loss: 0.1167, val_loss: 0.0932: 100%"
          }
        },
        "ae376574058e4cfc9850f04d13a9e87e": {
          "model_module": "@jupyter-widgets/controls",
          "model_module_version": "1.5.0",
          "model_name": "HTMLModel",
          "state": {
            "_dom_classes": [],
            "_model_module": "@jupyter-widgets/controls",
            "_model_module_version": "1.5.0",
            "_model_name": "HTMLModel",
            "_view_count": null,
            "_view_module": "@jupyter-widgets/controls",
            "_view_module_version": "1.5.0",
            "_view_name": "HTMLView",
            "description": "",
            "description_tooltip": null,
            "layout": "IPY_MODEL_b68c08df26a8407d8f916e19837d3116",
            "placeholder": "​",
            "style": "IPY_MODEL_654077eecea143a29a1701953098078f",
            "value": " 34/34 [08:07&lt;00:00, 14.40s/it]"
          }
        },
        "b68c08df26a8407d8f916e19837d3116": {
          "model_module": "@jupyter-widgets/base",
          "model_module_version": "1.2.0",
          "model_name": "LayoutModel",
          "state": {
            "_model_module": "@jupyter-widgets/base",
            "_model_module_version": "1.2.0",
            "_model_name": "LayoutModel",
            "_view_count": null,
            "_view_module": "@jupyter-widgets/base",
            "_view_module_version": "1.2.0",
            "_view_name": "LayoutView",
            "align_content": null,
            "align_items": null,
            "align_self": null,
            "border": null,
            "bottom": null,
            "display": null,
            "flex": null,
            "flex_flow": null,
            "grid_area": null,
            "grid_auto_columns": null,
            "grid_auto_flow": null,
            "grid_auto_rows": null,
            "grid_column": null,
            "grid_gap": null,
            "grid_row": null,
            "grid_template_areas": null,
            "grid_template_columns": null,
            "grid_template_rows": null,
            "height": null,
            "justify_content": null,
            "justify_items": null,
            "left": null,
            "margin": null,
            "max_height": null,
            "max_width": null,
            "min_height": null,
            "min_width": null,
            "object_fit": null,
            "object_position": null,
            "order": null,
            "overflow": null,
            "overflow_x": null,
            "overflow_y": null,
            "padding": null,
            "right": null,
            "top": null,
            "visibility": null,
            "width": null
          }
        },
        "d42b4838fcff42cd91908b3f67734137": {
          "model_module": "@jupyter-widgets/base",
          "model_module_version": "1.2.0",
          "model_name": "LayoutModel",
          "state": {
            "_model_module": "@jupyter-widgets/base",
            "_model_module_version": "1.2.0",
            "_model_name": "LayoutModel",
            "_view_count": null,
            "_view_module": "@jupyter-widgets/base",
            "_view_module_version": "1.2.0",
            "_view_name": "LayoutView",
            "align_content": null,
            "align_items": null,
            "align_self": null,
            "border": null,
            "bottom": null,
            "display": null,
            "flex": null,
            "flex_flow": null,
            "grid_area": null,
            "grid_auto_columns": null,
            "grid_auto_flow": null,
            "grid_auto_rows": null,
            "grid_column": null,
            "grid_gap": null,
            "grid_row": null,
            "grid_template_areas": null,
            "grid_template_columns": null,
            "grid_template_rows": null,
            "height": null,
            "justify_content": null,
            "justify_items": null,
            "left": null,
            "margin": null,
            "max_height": null,
            "max_width": null,
            "min_height": null,
            "min_width": null,
            "object_fit": null,
            "object_position": null,
            "order": null,
            "overflow": null,
            "overflow_x": null,
            "overflow_y": null,
            "padding": null,
            "right": null,
            "top": null,
            "visibility": null,
            "width": null
          }
        },
        "db0897a261694c83be6888afa396f774": {
          "model_module": "@jupyter-widgets/base",
          "model_module_version": "1.2.0",
          "model_name": "LayoutModel",
          "state": {
            "_model_module": "@jupyter-widgets/base",
            "_model_module_version": "1.2.0",
            "_model_name": "LayoutModel",
            "_view_count": null,
            "_view_module": "@jupyter-widgets/base",
            "_view_module_version": "1.2.0",
            "_view_name": "LayoutView",
            "align_content": null,
            "align_items": null,
            "align_self": null,
            "border": null,
            "bottom": null,
            "display": null,
            "flex": null,
            "flex_flow": null,
            "grid_area": null,
            "grid_auto_columns": null,
            "grid_auto_flow": null,
            "grid_auto_rows": null,
            "grid_column": null,
            "grid_gap": null,
            "grid_row": null,
            "grid_template_areas": null,
            "grid_template_columns": null,
            "grid_template_rows": null,
            "height": null,
            "justify_content": null,
            "justify_items": null,
            "left": null,
            "margin": null,
            "max_height": null,
            "max_width": null,
            "min_height": null,
            "min_width": null,
            "object_fit": null,
            "object_position": null,
            "order": null,
            "overflow": null,
            "overflow_x": null,
            "overflow_y": null,
            "padding": null,
            "right": null,
            "top": null,
            "visibility": null,
            "width": null
          }
        },
        "e79588e61bdf4f5b861c3168032d5276": {
          "model_module": "@jupyter-widgets/base",
          "model_module_version": "1.2.0",
          "model_name": "LayoutModel",
          "state": {
            "_model_module": "@jupyter-widgets/base",
            "_model_module_version": "1.2.0",
            "_model_name": "LayoutModel",
            "_view_count": null,
            "_view_module": "@jupyter-widgets/base",
            "_view_module_version": "1.2.0",
            "_view_name": "LayoutView",
            "align_content": null,
            "align_items": null,
            "align_self": null,
            "border": null,
            "bottom": null,
            "display": null,
            "flex": null,
            "flex_flow": null,
            "grid_area": null,
            "grid_auto_columns": null,
            "grid_auto_flow": null,
            "grid_auto_rows": null,
            "grid_column": null,
            "grid_gap": null,
            "grid_row": null,
            "grid_template_areas": null,
            "grid_template_columns": null,
            "grid_template_rows": null,
            "height": null,
            "justify_content": null,
            "justify_items": null,
            "left": null,
            "margin": null,
            "max_height": null,
            "max_width": null,
            "min_height": null,
            "min_width": null,
            "object_fit": null,
            "object_position": null,
            "order": null,
            "overflow": null,
            "overflow_x": null,
            "overflow_y": null,
            "padding": null,
            "right": null,
            "top": null,
            "visibility": null,
            "width": null
          }
        }
      }
    }
  },
  "nbformat": 4,
  "nbformat_minor": 5
}
