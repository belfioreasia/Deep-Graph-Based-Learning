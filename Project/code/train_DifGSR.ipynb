{
 "cells": [
  {
   "cell_type": "code",
   "execution_count": 1,
   "id": "80c16236-a326-4d21-bf3b-40fdf7330077",
   "metadata": {},
   "outputs": [
    {
     "name": "stdout",
     "output_type": "stream",
     "text": [
      "cuda\n"
     ]
    }
   ],
   "source": [
    "import os\n",
    "import random\n",
    "import torch\n",
    "import torch.nn as nn\n",
    "import numpy as np\n",
    "import pandas as pd\n",
    "from torch.utils.data import TensorDataset\n",
    "\n",
    "from models.DDPM_Schedule import DDPM, DDPMTopology\n",
    "from models.unet import ContextUnet, ContextUnetGraph\n",
    "\n",
    "from utils import *\n",
    "\n",
    "device = torch.device(\"cuda\" if torch.cuda.is_available() else \"cpu\")\n",
    "print(device)"
   ]
  },
  {
   "cell_type": "code",
   "execution_count": 2,
   "id": "2529d979-f168-4ab8-a14a-2534008cb0c9",
   "metadata": {},
   "outputs": [
    {
     "name": "stdout",
     "output_type": "stream",
     "text": [
      "CUDA is available.\n",
      "Using cuda\n"
     ]
    }
   ],
   "source": [
    "# Set a fixed random seed for reproducibility across multiple libraries\n",
    "random_seed = 42\n",
    "random.seed(random_seed)\n",
    "np.random.seed(random_seed)\n",
    "torch.manual_seed(random_seed)\n",
    "\n",
    "# Check for CUDA (GPU support) and set device accordingly\n",
    "if torch.cuda.is_available():\n",
    "    device = torch.device(\"cuda\")\n",
    "    print(\"CUDA is available.\")\n",
    "    torch.cuda.manual_seed(random_seed)\n",
    "    torch.cuda.manual_seed_all(random_seed)  # For multi-GPU setups\n",
    "    # Additional settings for ensuring reproducibility on CUDA\n",
    "    torch.backends.cudnn.deterministic = True\n",
    "    torch.backends.cudnn.benchmark = False\n",
    "    # !nvidia-smi\n",
    "elif torch.backends.mps.is_available():\n",
    "    device = torch.device(\"mps\")\n",
    "    print(\"MPS is available.\")\n",
    "else:\n",
    "    device = torch.device(\"cpu\")\n",
    "    print(\"CUDA not available.\")\n",
    "\n",
    "print(\"Using\", device)"
   ]
  },
  {
   "cell_type": "code",
   "execution_count": 3,
   "id": "a3b59560-a31f-4c59-a48e-8b5ddaf4d143",
   "metadata": {},
   "outputs": [],
   "source": [
    "lr_data_path_train = 'data/lr_train.csv'\n",
    "lr_data_path_test = 'data/lr_test.csv'\n",
    "hr_data_path = 'data/hr_train.csv'\n",
    "\n",
    "# load data\n",
    "df_lr_train = pd.read_csv(lr_data_path_train)\n",
    "df_lr_test = pd.read_csv(lr_data_path_test)\n",
    "df_hr_train = pd.read_csv(hr_data_path)\n",
    "\n",
    "lr_matrices = vectorize_matrix(df_lr_train, 160)\n",
    "hr_matrices = vectorize_matrix(df_hr_train, 268)\n",
    "test_matrices = vectorize_matrix(df_lr_test, 160)\n",
    "\n",
    "hr_all = np.mean(hr_matrices, axis=0, keepdims=True).squeeze()\n",
    "patch_size_lr = 20\n",
    "lr_matrices_matched = []\n",
    "\n",
    "for lr_mat in lr_matrices:\n",
    "    lr_matrices_matched.append(patch_histogram_matching(lr_mat, hr_all, patch_size_lr, nbins=256))\n",
    "lr_matrices = np.array(lr_matrices_matched)\n",
    "\n",
    "lr_matrices_matched = []\n",
    "for lr_mat in test_matrices:\n",
    "    lr_matrices_matched.append(patch_histogram_matching(lr_mat, hr_all, patch_size_lr, nbins=256))\n",
    "test_matrices = np.array(lr_matrices_matched)\n",
    "test_lr_tensors = torch.stack([torch.FloatTensor(x) for x in test_matrices]).to(device)\n",
    "\n",
    "# lr_matrices = np.concatenate([lr_matrices, augmented_lr_matrices], axis=0)\n",
    "# hr_matrices.extend(hr_matrices)\n",
    "# convert data to tensors\n",
    "lr_tensors = torch.stack([torch.FloatTensor(x) for x in lr_matrices]).to(device)\n",
    "hr_tensors = torch.stack([torch.FloatTensor(x) for x in hr_matrices]).to(device)\n",
    "\n",
    "# needed dimension to use ddpm\n",
    "hr_tensors = hr_tensors.unsqueeze(1)\n",
    "\n",
    "dataset = TensorDataset(lr_tensors, hr_tensors)"
   ]
  },
  {
   "cell_type": "code",
   "execution_count": 4,
   "id": "14e32d44",
   "metadata": {},
   "outputs": [],
   "source": [
    "patience = 5\n",
    "n_epoch = 50\n",
    "n_feat = 32\n",
    "lr = 1e-3\n",
    "\n",
    "# SOTA\n",
    "DDPM_model = DDPM\n",
    "unet_model = ContextUnet\n",
    "\n",
    "save = DDPM_model.__name__\n",
    "# save = None"
   ]
  },
  {
   "cell_type": "code",
   "execution_count": 5,
   "id": "01af6f01-2ffa-475a-af1c-9b8bd3564237",
   "metadata": {},
   "outputs": [
    {
     "name": "stdout",
     "output_type": "stream",
     "text": [
      "Fold 1:\n",
      "Denoiser model total trainable parameters: 21057409\n"
     ]
    },
    {
     "data": {
      "application/vnd.jupyter.widget-view+json": {
       "model_id": "dea2dbd82386452295074bb4e734f396",
       "version_major": 2,
       "version_minor": 0
      },
      "text/plain": [
       "  0%|          | 0/50 [00:00<?, ?it/s]"
      ]
     },
     "metadata": {},
     "output_type": "display_data"
    },
    {
     "name": "stdout",
     "output_type": "stream",
     "text": [
      "Epoch 0, train_loss: 0.8324, val_loss: 0.3780\n",
      "Epoch 1, train_loss: 0.3672, val_loss: 0.3219\n",
      "Epoch 2, train_loss: 0.3131, val_loss: 0.2709\n",
      "Epoch 3, train_loss: 0.3036, val_loss: 0.2636\n",
      "Epoch 4, train_loss: 0.2694, val_loss: 0.2603\n",
      "Epoch 5, train_loss: 0.2375, val_loss: 0.2499\n",
      "Epoch 6, train_loss: 0.2591, val_loss: 0.2865\n",
      "Epoch 7, train_loss: 0.2179, val_loss: 0.2061\n",
      "Epoch 8, train_loss: 0.2272, val_loss: 0.2962\n",
      "Epoch 9, train_loss: 0.2496, val_loss: 0.2076\n",
      "Epoch 10, train_loss: 0.2786, val_loss: 0.2034\n",
      "Epoch 11, train_loss: 0.2498, val_loss: 0.2222\n",
      "Epoch 12, train_loss: 0.2958, val_loss: 0.1878\n",
      "Epoch 13, train_loss: 0.2408, val_loss: 0.2665\n",
      "Epoch 14, train_loss: 0.2231, val_loss: 0.2655\n",
      "Epoch 15, train_loss: 0.2163, val_loss: 0.2496\n",
      "Epoch 16, train_loss: 0.2528, val_loss: 0.2031\n",
      "Epoch 17, train_loss: 0.2611, val_loss: 0.2381\n",
      "Early stopping triggered after 17 epochs.\n",
      "\n"
     ]
    },
    {
     "name": "stderr",
     "output_type": "stream",
     "text": [
      "100%|██████████| 100/100 [00:16<00:00,  6.08it/s]\n"
     ]
    },
    {
     "name": "stdout",
     "output_type": "stream",
     "text": [
      "\n"
     ]
    },
    {
     "name": "stderr",
     "output_type": "stream",
     "text": [
      "100%|██████████| 100/100 [00:10<00:00,  9.80it/s]\n"
     ]
    },
    {
     "data": {
      "application/vnd.jupyter.widget-view+json": {
       "model_id": "ae46b40f13df44c790c787942aba41b5",
       "version_major": 2,
       "version_minor": 0
      },
      "text/plain": [
       "Processing samples:   0%|          | 0/56 [00:00<?, ?it/s]"
      ]
     },
     "metadata": {},
     "output_type": "display_data"
    },
    {
     "name": "stdout",
     "output_type": "stream",
     "text": [
      "Overall MAE: 0.230615496635437\n",
      "Pearson Correlation Coefficient (PCC): 0.010643744\n",
      "Jensen-Shannon Distance: 0.493136595914817\n",
      "Average MAE Betweenness Centrality: 0.020617196365293338\n",
      "Average MAE Eigenvector Centrality: 0.01770835911998275\n",
      "Average MAE PageRank Centrality: 0.000749024485650547\n",
      "Average Clustering MAE: 0.08111322337345274\n",
      "Average Degree MAE: 0.39275586353944564\n"
     ]
    },
    {
     "data": {
      "application/vnd.jupyter.widget-view+json": {
       "model_id": "66e4a21812aa4e8286d83a85571a03eb",
       "version_major": 2,
       "version_minor": 0
      },
      "text/plain": [
       "  0%|          | 0/112 [00:00<?, ?it/s]"
      ]
     },
     "metadata": {},
     "output_type": "display_data"
    },
    {
     "name": "stdout",
     "output_type": "stream",
     "text": [
      "\n",
      "\n",
      "\n",
      "\n",
      "\n",
      "\n",
      "\n",
      "\n",
      "\n",
      "\n",
      "\n",
      "\n",
      "\n",
      "\n",
      "\n",
      "\n",
      "\n",
      "\n",
      "\n",
      "\n",
      "\n",
      "\n",
      "\n",
      "\n",
      "\n",
      "\n",
      "\n",
      "\n",
      "\n",
      "\n",
      "\n",
      "\n",
      "\n",
      "\n",
      "\n",
      "\n",
      "\n",
      "\n",
      "\n",
      "\n",
      "\n",
      "\n",
      "\n",
      "\n",
      "\n",
      "\n",
      "\n",
      "\n",
      "\n",
      "\n",
      "\n",
      "\n",
      "\n",
      "\n",
      "\n",
      "\n",
      "\n",
      "\n",
      "\n",
      "\n",
      "\n",
      "\n",
      "\n",
      "\n",
      "\n",
      "\n",
      "\n",
      "\n",
      "\n",
      "\n",
      "\n",
      "\n",
      "\n",
      "\n",
      "\n",
      "\n",
      "\n",
      "\n",
      "\n",
      "\n",
      "\n",
      "\n",
      "\n",
      "\n",
      "\n",
      "\n",
      "\n",
      "\n",
      "\n",
      "\n",
      "\n",
      "\n",
      "\n",
      "\n",
      "\n",
      "\n",
      "\n",
      "\n",
      "\n",
      "\n",
      "\n",
      "\n",
      "\n",
      "\n",
      "\n",
      "\n",
      "\n",
      "\n",
      "\n",
      "\n",
      "\n",
      "\n",
      "torch.Size([1, 1, 268, 268])\n",
      "Generated 112 predictions\n",
      "Creating File at results/DDPM/predictions_fold_1.csv...\n",
      "Done!\n"
     ]
    },
    {
     "data": {
      "image/png": "[encoded data removed]",
      "text/plain": [
       "<Figure size 2000x600 with 1 Axes>"
      ]
     },
     "metadata": {},
     "output_type": "display_data"
    },
    {
     "name": "stdout",
     "output_type": "stream",
     "text": [
      "Fold 2:\n",
      "Denoiser model total trainable parameters: 21057409\n"
     ]
    },
    {
     "data": {
      "application/vnd.jupyter.widget-view+json": {
       "model_id": "554ab059b6504e38b1cc06f79faf5826",
       "version_major": 2,
       "version_minor": 0
      },
      "text/plain": [
       "  0%|          | 0/50 [00:00<?, ?it/s]"
      ]
     },
     "metadata": {},
     "output_type": "display_data"
    },
    {
     "name": "stdout",
     "output_type": "stream",
     "text": [
      "Epoch 0, train_loss: 0.7255, val_loss: 0.4931\n",
      "Epoch 1, train_loss: 0.3424, val_loss: 0.3255\n",
      "Epoch 2, train_loss: 0.3188, val_loss: 0.3219\n",
      "Epoch 3, train_loss: 0.2434, val_loss: 0.3823\n",
      "Epoch 4, train_loss: 0.3107, val_loss: 0.4433\n",
      "Epoch 5, train_loss: 0.2974, val_loss: 0.3104\n",
      "Epoch 6, train_loss: 0.2238, val_loss: 0.3968\n",
      "Epoch 7, train_loss: 0.2768, val_loss: 0.3173\n",
      "Epoch 8, train_loss: 0.2555, val_loss: 0.3316\n",
      "Epoch 9, train_loss: 0.2141, val_loss: 0.2220\n",
      "Epoch 10, train_loss: 0.2442, val_loss: 0.1836\n",
      "Epoch 11, train_loss: 0.2632, val_loss: 0.2485\n",
      "Epoch 12, train_loss: 0.2389, val_loss: 0.2456\n",
      "Epoch 13, train_loss: 0.2251, val_loss: 0.2482\n",
      "Epoch 14, train_loss: 0.2337, val_loss: 0.2177\n",
      "Epoch 15, train_loss: 0.2668, val_loss: 0.2207\n",
      "Early stopping triggered after 15 epochs.\n",
      "\n"
     ]
    },
    {
     "name": "stderr",
     "output_type": "stream",
     "text": [
      "100%|██████████| 100/100 [00:15<00:00,  6.35it/s]\n"
     ]
    },
    {
     "name": "stdout",
     "output_type": "stream",
     "text": [
      "\n"
     ]
    },
    {
     "name": "stderr",
     "output_type": "stream",
     "text": [
      "100%|██████████| 100/100 [00:10<00:00,  9.58it/s]\n"
     ]
    },
    {
     "data": {
      "application/vnd.jupyter.widget-view+json": {
       "model_id": "cf5f9991193344ea872768711c848556",
       "version_major": 2,
       "version_minor": 0
      },
      "text/plain": [
       "Processing samples:   0%|          | 0/56 [00:00<?, ?it/s]"
      ]
     },
     "metadata": {},
     "output_type": "display_data"
    },
    {
     "name": "stdout",
     "output_type": "stream",
     "text": [
      "Overall MAE: 0.2239013910293579\n",
      "Pearson Correlation Coefficient (PCC): 0.0719685\n",
      "Jensen-Shannon Distance: 0.4810987234772244\n",
      "Average MAE Betweenness Centrality: 0.021010477833860182\n",
      "Average MAE Eigenvector Centrality: 0.01778035948404567\n",
      "Average MAE PageRank Centrality: 0.0007369795439247883\n",
      "Average Clustering MAE: 0.09260114792132579\n",
      "Average Degree MAE: 0.4276372601279318\n"
     ]
    },
    {
     "data": {
      "application/vnd.jupyter.widget-view+json": {
       "model_id": "b0b98e04923d409786719e17fbc7e9dc",
       "version_major": 2,
       "version_minor": 0
      },
      "text/plain": [
       "  0%|          | 0/112 [00:00<?, ?it/s]"
      ]
     },
     "metadata": {},
     "output_type": "display_data"
    },
    {
     "name": "stdout",
     "output_type": "stream",
     "text": [
      "\n",
      "\n",
      "\n",
      "\n",
      "\n",
      "\n",
      "\n",
      "\n",
      "\n",
      "\n",
      "\n",
      "\n",
      "\n",
      "\n",
      "\n",
      "\n",
      "\n",
      "\n",
      "\n",
      "\n",
      "\n",
      "\n",
      "\n",
      "\n",
      "\n",
      "\n",
      "\n",
      "\n",
      "\n",
      "\n",
      "\n",
      "\n",
      "\n",
      "\n",
      "\n",
      "\n",
      "\n",
      "\n",
      "\n",
      "\n",
      "\n",
      "\n",
      "\n",
      "\n",
      "\n",
      "\n",
      "\n",
      "\n",
      "\n",
      "\n",
      "\n",
      "\n",
      "\n",
      "\n",
      "\n",
      "\n",
      "\n",
      "\n",
      "\n",
      "\n",
      "\n",
      "\n",
      "\n",
      "\n",
      "\n",
      "\n",
      "\n",
      "\n",
      "\n",
      "\n",
      "\n",
      "\n",
      "\n",
      "\n",
      "\n",
      "\n",
      "\n",
      "\n",
      "\n",
      "\n",
      "\n",
      "\n",
      "\n",
      "\n",
      "\n",
      "\n",
      "\n",
      "\n",
      "\n",
      "\n",
      "\n",
      "\n",
      "\n",
      "\n",
      "\n",
      "\n",
      "\n",
      "\n",
      "\n",
      "\n",
      "\n",
      "\n",
      "\n",
      "\n",
      "\n",
      "\n",
      "\n",
      "\n",
      "\n",
      "\n",
      "\n",
      "\n",
      "torch.Size([1, 1, 268, 268])\n",
      "Generated 112 predictions\n",
      "Creating File at results/DDPM/predictions_fold_2.csv...\n",
      "Done!\n"
     ]
    },
    {
     "data": {
      "image/png": "[encoded data removed]",
      "text/plain": [
       "<Figure size 2000x600 with 1 Axes>"
      ]
     },
     "metadata": {},
     "output_type": "display_data"
    },
    {
     "name": "stdout",
     "output_type": "stream",
     "text": [
      "Fold 3:\n",
      "Denoiser model total trainable parameters: 21057409\n"
     ]
    },
    {
     "data": {
      "application/vnd.jupyter.widget-view+json": {
       "model_id": "3cfbd3fa25394039b18fbd366af1e492",
       "version_major": 2,
       "version_minor": 0
      },
      "text/plain": [
       "  0%|          | 0/50 [00:00<?, ?it/s]"
      ]
     },
     "metadata": {},
     "output_type": "display_data"
    },
    {
     "name": "stdout",
     "output_type": "stream",
     "text": [
      "Epoch 0, train_loss: 0.7727, val_loss: 0.5273\n",
      "Epoch 1, train_loss: 0.3898, val_loss: 0.3967\n",
      "Epoch 2, train_loss: 0.3009, val_loss: 0.3210\n",
      "Epoch 3, train_loss: 0.2672, val_loss: 0.3037\n",
      "Epoch 4, train_loss: 0.2760, val_loss: 0.2706\n",
      "Epoch 5, train_loss: 0.2296, val_loss: 0.2647\n",
      "Epoch 6, train_loss: 0.2808, val_loss: 0.2957\n",
      "Epoch 7, train_loss: 0.2495, val_loss: 0.2057\n",
      "Epoch 8, train_loss: 0.2549, val_loss: 0.2607\n",
      "Epoch 9, train_loss: 0.2199, val_loss: 0.2248\n",
      "Epoch 10, train_loss: 0.2291, val_loss: 0.2693\n",
      "Epoch 11, train_loss: 0.2468, val_loss: 0.1816\n",
      "Epoch 12, train_loss: 0.2392, val_loss: 0.2366\n",
      "Epoch 13, train_loss: 0.2380, val_loss: 0.2445\n",
      "Epoch 14, train_loss: 0.2338, val_loss: 0.1633\n",
      "Epoch 15, train_loss: 0.2192, val_loss: 0.1874\n",
      "Epoch 16, train_loss: 0.2294, val_loss: 0.2436\n",
      "Epoch 17, train_loss: 0.2459, val_loss: 0.1845\n",
      "Epoch 18, train_loss: 0.2029, val_loss: 0.2516\n",
      "Epoch 19, train_loss: 0.1737, val_loss: 0.2302\n",
      "Early stopping triggered after 19 epochs.\n",
      "\n"
     ]
    },
    {
     "name": "stderr",
     "output_type": "stream",
     "text": [
      "100%|██████████| 100/100 [00:16<00:00,  5.97it/s]\n"
     ]
    },
    {
     "name": "stdout",
     "output_type": "stream",
     "text": [
      "\n"
     ]
    },
    {
     "name": "stderr",
     "output_type": "stream",
     "text": [
      "100%|██████████| 100/100 [00:09<00:00, 10.19it/s]\n"
     ]
    },
    {
     "data": {
      "application/vnd.jupyter.widget-view+json": {
       "model_id": "e7ecd13b64a2421584c3c7c9f24ddbf7",
       "version_major": 2,
       "version_minor": 0
      },
      "text/plain": [
       "Processing samples:   0%|          | 0/55 [00:00<?, ?it/s]"
      ]
     },
     "metadata": {},
     "output_type": "display_data"
    },
    {
     "name": "stdout",
     "output_type": "stream",
     "text": [
      "Overall MAE: 0.2027694284915924\n",
      "Pearson Correlation Coefficient (PCC): 0.26581866\n",
      "Jensen-Shannon Distance: 0.4532458867582345\n",
      "Average MAE Betweenness Centrality: 0.02034764812111079\n",
      "Average MAE Eigenvector Centrality: 0.014524153756498605\n",
      "Average MAE PageRank Centrality: 0.0006097989650517\n",
      "Average Clustering MAE: 0.04978377349846512\n",
      "Average Degree MAE: 0.30563229308005424\n"
     ]
    },
    {
     "data": {
      "application/vnd.jupyter.widget-view+json": {
       "model_id": "f838102e921249ba9a8dd0a78aafaaa0",
       "version_major": 2,
       "version_minor": 0
      },
      "text/plain": [
       "  0%|          | 0/112 [00:00<?, ?it/s]"
      ]
     },
     "metadata": {},
     "output_type": "display_data"
    },
    {
     "name": "stdout",
     "output_type": "stream",
     "text": [
      "\n",
      "\n",
      "\n",
      "\n",
      "\n",
      "\n",
      "\n",
      "\n",
      "\n",
      "\n",
      "\n",
      "\n",
      "\n",
      "\n",
      "\n",
      "\n",
      "\n",
      "\n",
      "\n",
      "\n",
      "\n",
      "\n",
      "\n",
      "\n",
      "\n",
      "\n",
      "\n",
      "\n",
      "\n",
      "\n",
      "\n",
      "\n",
      "\n",
      "\n",
      "\n",
      "\n",
      "\n",
      "\n",
      "\n",
      "\n",
      "\n",
      "\n",
      "\n",
      "\n",
      "\n",
      "\n",
      "\n",
      "\n",
      "\n",
      "\n",
      "\n",
      "\n",
      "\n",
      "\n",
      "\n",
      "\n",
      "\n",
      "\n",
      "\n",
      "\n",
      "\n",
      "\n",
      "\n",
      "\n",
      "\n",
      "\n",
      "\n",
      "\n",
      "\n",
      "\n",
      "\n",
      "\n",
      "\n",
      "\n",
      "\n",
      "\n",
      "\n",
      "\n",
      "\n",
      "\n",
      "\n",
      "\n",
      "\n",
      "\n",
      "\n",
      "\n",
      "\n",
      "\n",
      "\n",
      "\n",
      "\n",
      "\n",
      "\n",
      "\n",
      "\n",
      "\n",
      "\n",
      "\n",
      "\n",
      "\n",
      "\n",
      "\n",
      "\n",
      "\n",
      "\n",
      "\n",
      "\n",
      "\n",
      "\n",
      "\n",
      "\n",
      "\n",
      "torch.Size([1, 1, 268, 268])\n",
      "Generated 112 predictions\n",
      "Creating File at results/DDPM/predictions_fold_3.csv...\n",
      "Done!\n"
     ]
    },
    {
     "data": {
      "image/png": "[encoded data removed]",
      "text/plain": [
       "<Figure size 2000x600 with 1 Axes>"
      ]
     },
     "metadata": {},
     "output_type": "display_data"
    },
    {
     "name": "stdout",
     "output_type": "stream",
     "text": [
      "Results saved to results/DDPM/metrics.csv\n"
     ]
    }
   ],
   "source": [
    "metrics_by_fold, run_history = run_kfold(DDPM_model, unet_model, n_feat, patience, n_epoch, lr, device, dataset, test_lr_tensors, k=3, seed=random_seed, plot=True, save=save)"
   ]
  },
  {
   "cell_type": "code",
   "execution_count": 8,
   "id": "eed8804b",
   "metadata": {},
   "outputs": [
    {
     "data": {
      "image/png": "[encoded data removed]",
      "text/plain": [
       "<Figure size 3000x1200 with 4 Axes>"
      ]
     },
     "metadata": {},
     "output_type": "display_data"
    }
   ],
   "source": [
    "plot_metrics(metrics_by_fold, k=3)"
   ]
  },
  {
   "cell_type": "code",
   "execution_count": 9,
   "id": "5cb9893d",
   "metadata": {},
   "outputs": [
    {
     "name": "stdout",
     "output_type": "stream",
     "text": [
      "Run 0: Max RAM = 1328.12109375 MB, Max VRAM = 16756.5 MB, Time = 166.199 sec\n",
      "Run 1: Max RAM = 1419.1015625 MB, Max VRAM = 16758.5 MB, Time = 161.476 sec\n",
      "Run 2: Max RAM = 1438.71875 MB, Max VRAM = 16758.5 MB, Time = 169.020 sec\n"
     ]
    }
   ],
   "source": [
    "for run_id, run_data in run_history.items():\n",
    "    # Combine the training and evaluation metrics\n",
    "    usage_data = run_data.get(\"system_usage\", [])\n",
    "    eval_data = run_data.get(\"system_usage_eval\", [])\n",
    "    time = run_data.get(\"time\")\n",
    "    combined_data = usage_data + eval_data\n",
    "\n",
    "    # Calculate the maximum RAM_MB and VRAM_MB\n",
    "    max_ram = max(entry[\"RAM_MB\"] for entry in combined_data if \"RAM_MB\" in entry)\n",
    "    max_vram = max(entry[\"VRAM_MB\"] for entry in combined_data if \"VRAM_MB\" in entry)\n",
    "    \n",
    "    print(f\"Run {run_id}: Max RAM = {max_ram} MB, Max VRAM = {max_vram} MB, Time = {time:.3f} sec\")"
   ]
  },
  {
   "cell_type": "markdown",
   "id": "94ce79a6",
   "metadata": {},
   "source": []
  }
 ],
 "metadata": {
  "kernelspec": {
   "display_name": "deeplearning",
   "language": "python",
   "name": "python3"
  },
  "language_info": {
   "codemirror_mode": {
    "name": "ipython",
    "version": 3
   },
   "file_extension": ".py",
   "mimetype": "text/x-python",
   "name": "python",
   "nbconvert_exporter": "python",
   "pygments_lexer": "ipython3",
   "version": "3.10.16"
  }
 },
 "nbformat": 4,
 "nbformat_minor": 5
}
